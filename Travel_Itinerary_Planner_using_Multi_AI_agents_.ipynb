{
  "cells": [
    {
      "cell_type": "markdown",
      "metadata": {
        "id": "iOlm66J5his8"
      },
      "source": [
        "###Team Member : Raj Khatri, Lokendra Sinha\n",
        "\n",
        "###Topic : Travel Itinerary Planner using Multi-AI agents\n",
        "\n",
        "###Problem we are solving :\n",
        "\n",
        "####1.Time-Saving ⏳\n",
        "\n",
        "Instantly generates complete itineraries (vs. hours of manual research)\n",
        "\n",
        "####2.Personalization 🎯\n",
        "\n",
        "Tailors plans to your interests (food, adventure, culture etc.)\n",
        "\n",
        "Learns your preferences over time (via User ID)\n",
        "\n",
        "####3.Smart Recommendations 🤖\n",
        "\n",
        "Combines:\n",
        "\n",
        "AI itinerary generation (LLM+Gen-AI+Agentic-AI)\n",
        "\n",
        "Personalized suggestions (ML)\n",
        "\n",
        "Review analysis (DL)\n",
        "\n",
        "####4.Local Expertise 🗺️\n",
        "\n",
        "Reveals hidden gems & authentic experiences\n",
        "\n",
        "Avoids tourist traps\n",
        "\n",
        "####5.Decision Simplicity ✅\n",
        "\n",
        "Curated daily plans with optimal timing\n",
        "\n",
        "Clear sentiment analysis of locations\n",
        "\n",
        "\n",
        "###Key Benefit: Turns stressful trip planning into one-click perfect itineraries."
      ]
    },
    {
      "cell_type": "markdown",
      "metadata": {
        "id": "BieZP7MwZJqR"
      },
      "source": [
        " Install Required Packages"
      ]
    },
    {
      "cell_type": "code",
      "execution_count": 1,
      "metadata": {
        "colab": {
          "base_uri": "https://localhost:8080/"
        },
        "id": "9BkoLisnRkhA",
        "outputId": "088647b0-8826-46f3-a7cd-df5dadbdd308"
      },
      "outputs": [
        {
          "name": "stdout",
          "output_type": "stream",
          "text": [
            "Requirement already satisfied: langchain in /usr/local/lib/python3.11/dist-packages (0.3.26)\n",
            "Requirement already satisfied: langchain_core in /usr/local/lib/python3.11/dist-packages (0.3.66)\n",
            "Requirement already satisfied: langchain_groq in /usr/local/lib/python3.11/dist-packages (0.3.4)\n",
            "Requirement already satisfied: langchain_community in /usr/local/lib/python3.11/dist-packages (0.3.26)\n",
            "Requirement already satisfied: langgraph in /usr/local/lib/python3.11/dist-packages (0.5.0)\n",
            "Requirement already satisfied: gradio in /usr/local/lib/python3.11/dist-packages (5.31.0)\n",
            "Requirement already satisfied: langchain-text-splitters<1.0.0,>=0.3.8 in /usr/local/lib/python3.11/dist-packages (from langchain) (0.3.8)\n",
            "Requirement already satisfied: langsmith>=0.1.17 in /usr/local/lib/python3.11/dist-packages (from langchain) (0.4.1)\n",
            "Requirement already satisfied: pydantic<3.0.0,>=2.7.4 in /usr/local/lib/python3.11/dist-packages (from langchain) (2.11.7)\n",
            "Requirement already satisfied: SQLAlchemy<3,>=1.4 in /usr/local/lib/python3.11/dist-packages (from langchain) (2.0.41)\n",
            "Requirement already satisfied: requests<3,>=2 in /usr/local/lib/python3.11/dist-packages (from langchain) (2.32.3)\n",
            "Requirement already satisfied: PyYAML>=5.3 in /usr/local/lib/python3.11/dist-packages (from langchain) (6.0.2)\n",
            "Requirement already satisfied: tenacity!=8.4.0,<10.0.0,>=8.1.0 in /usr/local/lib/python3.11/dist-packages (from langchain_core) (8.5.0)\n",
            "Requirement already satisfied: jsonpatch<2.0,>=1.33 in /usr/local/lib/python3.11/dist-packages (from langchain_core) (1.33)\n",
            "Requirement already satisfied: packaging<25,>=23.2 in /usr/local/lib/python3.11/dist-packages (from langchain_core) (24.2)\n",
            "Requirement already satisfied: typing-extensions>=4.7 in /usr/local/lib/python3.11/dist-packages (from langchain_core) (4.14.0)\n",
            "Requirement already satisfied: groq<1,>=0.28.0 in /usr/local/lib/python3.11/dist-packages (from langchain_groq) (0.29.0)\n",
            "Requirement already satisfied: aiohttp<4.0.0,>=3.8.3 in /usr/local/lib/python3.11/dist-packages (from langchain_community) (3.11.15)\n",
            "Requirement already satisfied: dataclasses-json<0.7,>=0.5.7 in /usr/local/lib/python3.11/dist-packages (from langchain_community) (0.6.7)\n",
            "Requirement already satisfied: pydantic-settings<3.0.0,>=2.4.0 in /usr/local/lib/python3.11/dist-packages (from langchain_community) (2.10.1)\n",
            "Requirement already satisfied: httpx-sse<1.0.0,>=0.4.0 in /usr/local/lib/python3.11/dist-packages (from langchain_community) (0.4.1)\n",
            "Requirement already satisfied: numpy>=1.26.2 in /usr/local/lib/python3.11/dist-packages (from langchain_community) (2.0.2)\n",
            "Requirement already satisfied: langgraph-checkpoint>=2.1.0 in /usr/local/lib/python3.11/dist-packages (from langgraph) (2.1.0)\n",
            "Requirement already satisfied: langgraph-prebuilt>=0.5.0 in /usr/local/lib/python3.11/dist-packages (from langgraph) (0.5.1)\n",
            "Requirement already satisfied: langgraph-sdk>=0.1.42 in /usr/local/lib/python3.11/dist-packages (from langgraph) (0.1.72)\n",
            "Requirement already satisfied: xxhash>=3.5.0 in /usr/local/lib/python3.11/dist-packages (from langgraph) (3.5.0)\n",
            "Requirement already satisfied: aiofiles<25.0,>=22.0 in /usr/local/lib/python3.11/dist-packages (from gradio) (24.1.0)\n",
            "Requirement already satisfied: anyio<5.0,>=3.0 in /usr/local/lib/python3.11/dist-packages (from gradio) (4.9.0)\n",
            "Requirement already satisfied: fastapi<1.0,>=0.115.2 in /usr/local/lib/python3.11/dist-packages (from gradio) (0.115.13)\n",
            "Requirement already satisfied: ffmpy in /usr/local/lib/python3.11/dist-packages (from gradio) (0.6.0)\n",
            "Requirement already satisfied: gradio-client==1.10.1 in /usr/local/lib/python3.11/dist-packages (from gradio) (1.10.1)\n",
            "Requirement already satisfied: groovy~=0.1 in /usr/local/lib/python3.11/dist-packages (from gradio) (0.1.2)\n",
            "Requirement already satisfied: httpx>=0.24.1 in /usr/local/lib/python3.11/dist-packages (from gradio) (0.28.1)\n",
            "Requirement already satisfied: huggingface-hub>=0.28.1 in /usr/local/lib/python3.11/dist-packages (from gradio) (0.33.0)\n",
            "Requirement already satisfied: jinja2<4.0 in /usr/local/lib/python3.11/dist-packages (from gradio) (3.1.6)\n",
            "Requirement already satisfied: markupsafe<4.0,>=2.0 in /usr/local/lib/python3.11/dist-packages (from gradio) (3.0.2)\n",
            "Requirement already satisfied: orjson~=3.0 in /usr/local/lib/python3.11/dist-packages (from gradio) (3.10.18)\n",
            "Requirement already satisfied: pandas<3.0,>=1.0 in /usr/local/lib/python3.11/dist-packages (from gradio) (2.2.2)\n",
            "Requirement already satisfied: pillow<12.0,>=8.0 in /usr/local/lib/python3.11/dist-packages (from gradio) (11.2.1)\n",
            "Requirement already satisfied: pydub in /usr/local/lib/python3.11/dist-packages (from gradio) (0.25.1)\n",
            "Requirement already satisfied: python-multipart>=0.0.18 in /usr/local/lib/python3.11/dist-packages (from gradio) (0.0.20)\n",
            "Requirement already satisfied: ruff>=0.9.3 in /usr/local/lib/python3.11/dist-packages (from gradio) (0.12.0)\n",
            "Requirement already satisfied: safehttpx<0.2.0,>=0.1.6 in /usr/local/lib/python3.11/dist-packages (from gradio) (0.1.6)\n",
            "Requirement already satisfied: semantic-version~=2.0 in /usr/local/lib/python3.11/dist-packages (from gradio) (2.10.0)\n",
            "Requirement already satisfied: starlette<1.0,>=0.40.0 in /usr/local/lib/python3.11/dist-packages (from gradio) (0.46.2)\n",
            "Requirement already satisfied: tomlkit<0.14.0,>=0.12.0 in /usr/local/lib/python3.11/dist-packages (from gradio) (0.13.3)\n",
            "Requirement already satisfied: typer<1.0,>=0.12 in /usr/local/lib/python3.11/dist-packages (from gradio) (0.16.0)\n",
            "Requirement already satisfied: uvicorn>=0.14.0 in /usr/local/lib/python3.11/dist-packages (from gradio) (0.34.3)\n",
            "Requirement already satisfied: fsspec in /usr/local/lib/python3.11/dist-packages (from gradio-client==1.10.1->gradio) (2025.3.2)\n",
            "Requirement already satisfied: websockets<16.0,>=10.0 in /usr/local/lib/python3.11/dist-packages (from gradio-client==1.10.1->gradio) (15.0.1)\n",
            "Requirement already satisfied: aiohappyeyeballs>=2.3.0 in /usr/local/lib/python3.11/dist-packages (from aiohttp<4.0.0,>=3.8.3->langchain_community) (2.6.1)\n",
            "Requirement already satisfied: aiosignal>=1.1.2 in /usr/local/lib/python3.11/dist-packages (from aiohttp<4.0.0,>=3.8.3->langchain_community) (1.3.2)\n",
            "Requirement already satisfied: attrs>=17.3.0 in /usr/local/lib/python3.11/dist-packages (from aiohttp<4.0.0,>=3.8.3->langchain_community) (25.3.0)\n",
            "Requirement already satisfied: frozenlist>=1.1.1 in /usr/local/lib/python3.11/dist-packages (from aiohttp<4.0.0,>=3.8.3->langchain_community) (1.7.0)\n",
            "Requirement already satisfied: multidict<7.0,>=4.5 in /usr/local/lib/python3.11/dist-packages (from aiohttp<4.0.0,>=3.8.3->langchain_community) (6.4.4)\n",
            "Requirement already satisfied: propcache>=0.2.0 in /usr/local/lib/python3.11/dist-packages (from aiohttp<4.0.0,>=3.8.3->langchain_community) (0.3.2)\n",
            "Requirement already satisfied: yarl<2.0,>=1.17.0 in /usr/local/lib/python3.11/dist-packages (from aiohttp<4.0.0,>=3.8.3->langchain_community) (1.20.1)\n",
            "Requirement already satisfied: idna>=2.8 in /usr/local/lib/python3.11/dist-packages (from anyio<5.0,>=3.0->gradio) (3.10)\n",
            "Requirement already satisfied: sniffio>=1.1 in /usr/local/lib/python3.11/dist-packages (from anyio<5.0,>=3.0->gradio) (1.3.1)\n",
            "Requirement already satisfied: marshmallow<4.0.0,>=3.18.0 in /usr/local/lib/python3.11/dist-packages (from dataclasses-json<0.7,>=0.5.7->langchain_community) (3.26.1)\n",
            "Requirement already satisfied: typing-inspect<1,>=0.4.0 in /usr/local/lib/python3.11/dist-packages (from dataclasses-json<0.7,>=0.5.7->langchain_community) (0.9.0)\n",
            "Requirement already satisfied: distro<2,>=1.7.0 in /usr/local/lib/python3.11/dist-packages (from groq<1,>=0.28.0->langchain_groq) (1.9.0)\n",
            "Requirement already satisfied: certifi in /usr/local/lib/python3.11/dist-packages (from httpx>=0.24.1->gradio) (2025.6.15)\n",
            "Requirement already satisfied: httpcore==1.* in /usr/local/lib/python3.11/dist-packages (from httpx>=0.24.1->gradio) (1.0.9)\n",
            "Requirement already satisfied: h11>=0.16 in /usr/local/lib/python3.11/dist-packages (from httpcore==1.*->httpx>=0.24.1->gradio) (0.16.0)\n",
            "Requirement already satisfied: filelock in /usr/local/lib/python3.11/dist-packages (from huggingface-hub>=0.28.1->gradio) (3.18.0)\n",
            "Requirement already satisfied: tqdm>=4.42.1 in /usr/local/lib/python3.11/dist-packages (from huggingface-hub>=0.28.1->gradio) (4.67.1)\n",
            "Requirement already satisfied: hf-xet<2.0.0,>=1.1.2 in /usr/local/lib/python3.11/dist-packages (from huggingface-hub>=0.28.1->gradio) (1.1.5)\n",
            "Requirement already satisfied: jsonpointer>=1.9 in /usr/local/lib/python3.11/dist-packages (from jsonpatch<2.0,>=1.33->langchain_core) (3.0.0)\n",
            "Requirement already satisfied: ormsgpack>=1.10.0 in /usr/local/lib/python3.11/dist-packages (from langgraph-checkpoint>=2.1.0->langgraph) (1.10.0)\n",
            "Requirement already satisfied: requests-toolbelt<2.0.0,>=1.0.0 in /usr/local/lib/python3.11/dist-packages (from langsmith>=0.1.17->langchain) (1.0.0)\n",
            "Requirement already satisfied: zstandard<0.24.0,>=0.23.0 in /usr/local/lib/python3.11/dist-packages (from langsmith>=0.1.17->langchain) (0.23.0)\n",
            "Requirement already satisfied: python-dateutil>=2.8.2 in /usr/local/lib/python3.11/dist-packages (from pandas<3.0,>=1.0->gradio) (2.9.0.post0)\n",
            "Requirement already satisfied: pytz>=2020.1 in /usr/local/lib/python3.11/dist-packages (from pandas<3.0,>=1.0->gradio) (2025.2)\n",
            "Requirement already satisfied: tzdata>=2022.7 in /usr/local/lib/python3.11/dist-packages (from pandas<3.0,>=1.0->gradio) (2025.2)\n",
            "Requirement already satisfied: annotated-types>=0.6.0 in /usr/local/lib/python3.11/dist-packages (from pydantic<3.0.0,>=2.7.4->langchain) (0.7.0)\n",
            "Requirement already satisfied: pydantic-core==2.33.2 in /usr/local/lib/python3.11/dist-packages (from pydantic<3.0.0,>=2.7.4->langchain) (2.33.2)\n",
            "Requirement already satisfied: typing-inspection>=0.4.0 in /usr/local/lib/python3.11/dist-packages (from pydantic<3.0.0,>=2.7.4->langchain) (0.4.1)\n",
            "Requirement already satisfied: python-dotenv>=0.21.0 in /usr/local/lib/python3.11/dist-packages (from pydantic-settings<3.0.0,>=2.4.0->langchain_community) (1.1.1)\n",
            "Requirement already satisfied: charset-normalizer<4,>=2 in /usr/local/lib/python3.11/dist-packages (from requests<3,>=2->langchain) (3.4.2)\n",
            "Requirement already satisfied: urllib3<3,>=1.21.1 in /usr/local/lib/python3.11/dist-packages (from requests<3,>=2->langchain) (2.4.0)\n",
            "Requirement already satisfied: greenlet>=1 in /usr/local/lib/python3.11/dist-packages (from SQLAlchemy<3,>=1.4->langchain) (3.2.3)\n",
            "Requirement already satisfied: click>=8.0.0 in /usr/local/lib/python3.11/dist-packages (from typer<1.0,>=0.12->gradio) (8.2.1)\n",
            "Requirement already satisfied: shellingham>=1.3.0 in /usr/local/lib/python3.11/dist-packages (from typer<1.0,>=0.12->gradio) (1.5.4)\n",
            "Requirement already satisfied: rich>=10.11.0 in /usr/local/lib/python3.11/dist-packages (from typer<1.0,>=0.12->gradio) (13.9.4)\n",
            "Requirement already satisfied: six>=1.5 in /usr/local/lib/python3.11/dist-packages (from python-dateutil>=2.8.2->pandas<3.0,>=1.0->gradio) (1.17.0)\n",
            "Requirement already satisfied: markdown-it-py>=2.2.0 in /usr/local/lib/python3.11/dist-packages (from rich>=10.11.0->typer<1.0,>=0.12->gradio) (3.0.0)\n",
            "Requirement already satisfied: pygments<3.0.0,>=2.13.0 in /usr/local/lib/python3.11/dist-packages (from rich>=10.11.0->typer<1.0,>=0.12->gradio) (2.19.2)\n",
            "Requirement already satisfied: mypy-extensions>=0.3.0 in /usr/local/lib/python3.11/dist-packages (from typing-inspect<1,>=0.4.0->dataclasses-json<0.7,>=0.5.7->langchain_community) (1.1.0)\n",
            "Requirement already satisfied: mdurl~=0.1 in /usr/local/lib/python3.11/dist-packages (from markdown-it-py>=2.2.0->rich>=10.11.0->typer<1.0,>=0.12->gradio) (0.1.2)\n",
            "Requirement already satisfied: scikit-learn in /usr/local/lib/python3.11/dist-packages (1.6.1)\n",
            "Requirement already satisfied: transformers in /usr/local/lib/python3.11/dist-packages (4.52.4)\n",
            "Requirement already satisfied: torch in /usr/local/lib/python3.11/dist-packages (2.6.0+cu124)\n",
            "Requirement already satisfied: pandas in /usr/local/lib/python3.11/dist-packages (2.2.2)\n",
            "Requirement already satisfied: numpy>=1.19.5 in /usr/local/lib/python3.11/dist-packages (from scikit-learn) (2.0.2)\n",
            "Requirement already satisfied: scipy>=1.6.0 in /usr/local/lib/python3.11/dist-packages (from scikit-learn) (1.15.3)\n",
            "Requirement already satisfied: joblib>=1.2.0 in /usr/local/lib/python3.11/dist-packages (from scikit-learn) (1.5.1)\n",
            "Requirement already satisfied: threadpoolctl>=3.1.0 in /usr/local/lib/python3.11/dist-packages (from scikit-learn) (3.6.0)\n",
            "Requirement already satisfied: filelock in /usr/local/lib/python3.11/dist-packages (from transformers) (3.18.0)\n",
            "Requirement already satisfied: huggingface-hub<1.0,>=0.30.0 in /usr/local/lib/python3.11/dist-packages (from transformers) (0.33.0)\n",
            "Requirement already satisfied: packaging>=20.0 in /usr/local/lib/python3.11/dist-packages (from transformers) (24.2)\n",
            "Requirement already satisfied: pyyaml>=5.1 in /usr/local/lib/python3.11/dist-packages (from transformers) (6.0.2)\n",
            "Requirement already satisfied: regex!=2019.12.17 in /usr/local/lib/python3.11/dist-packages (from transformers) (2024.11.6)\n",
            "Requirement already satisfied: requests in /usr/local/lib/python3.11/dist-packages (from transformers) (2.32.3)\n",
            "Requirement already satisfied: tokenizers<0.22,>=0.21 in /usr/local/lib/python3.11/dist-packages (from transformers) (0.21.2)\n",
            "Requirement already satisfied: safetensors>=0.4.3 in /usr/local/lib/python3.11/dist-packages (from transformers) (0.5.3)\n",
            "Requirement already satisfied: tqdm>=4.27 in /usr/local/lib/python3.11/dist-packages (from transformers) (4.67.1)\n",
            "Requirement already satisfied: typing-extensions>=4.10.0 in /usr/local/lib/python3.11/dist-packages (from torch) (4.14.0)\n",
            "Requirement already satisfied: networkx in /usr/local/lib/python3.11/dist-packages (from torch) (3.5)\n",
            "Requirement already satisfied: jinja2 in /usr/local/lib/python3.11/dist-packages (from torch) (3.1.6)\n",
            "Requirement already satisfied: fsspec in /usr/local/lib/python3.11/dist-packages (from torch) (2025.3.2)\n",
            "Requirement already satisfied: nvidia-cuda-nvrtc-cu12==12.4.127 in /usr/local/lib/python3.11/dist-packages (from torch) (12.4.127)\n",
            "Requirement already satisfied: nvidia-cuda-runtime-cu12==12.4.127 in /usr/local/lib/python3.11/dist-packages (from torch) (12.4.127)\n",
            "Requirement already satisfied: nvidia-cuda-cupti-cu12==12.4.127 in /usr/local/lib/python3.11/dist-packages (from torch) (12.4.127)\n",
            "Requirement already satisfied: nvidia-cudnn-cu12==9.1.0.70 in /usr/local/lib/python3.11/dist-packages (from torch) (9.1.0.70)\n",
            "Requirement already satisfied: nvidia-cublas-cu12==12.4.5.8 in /usr/local/lib/python3.11/dist-packages (from torch) (12.4.5.8)\n",
            "Requirement already satisfied: nvidia-cufft-cu12==11.2.1.3 in /usr/local/lib/python3.11/dist-packages (from torch) (11.2.1.3)\n",
            "Requirement already satisfied: nvidia-curand-cu12==10.3.5.147 in /usr/local/lib/python3.11/dist-packages (from torch) (10.3.5.147)\n",
            "Requirement already satisfied: nvidia-cusolver-cu12==11.6.1.9 in /usr/local/lib/python3.11/dist-packages (from torch) (11.6.1.9)\n",
            "Requirement already satisfied: nvidia-cusparse-cu12==12.3.1.170 in /usr/local/lib/python3.11/dist-packages (from torch) (12.3.1.170)\n",
            "Requirement already satisfied: nvidia-cusparselt-cu12==0.6.2 in /usr/local/lib/python3.11/dist-packages (from torch) (0.6.2)\n",
            "Requirement already satisfied: nvidia-nccl-cu12==2.21.5 in /usr/local/lib/python3.11/dist-packages (from torch) (2.21.5)\n",
            "Requirement already satisfied: nvidia-nvtx-cu12==12.4.127 in /usr/local/lib/python3.11/dist-packages (from torch) (12.4.127)\n",
            "Requirement already satisfied: nvidia-nvjitlink-cu12==12.4.127 in /usr/local/lib/python3.11/dist-packages (from torch) (12.4.127)\n",
            "Requirement already satisfied: triton==3.2.0 in /usr/local/lib/python3.11/dist-packages (from torch) (3.2.0)\n",
            "Requirement already satisfied: sympy==1.13.1 in /usr/local/lib/python3.11/dist-packages (from torch) (1.13.1)\n",
            "Requirement already satisfied: mpmath<1.4,>=1.1.0 in /usr/local/lib/python3.11/dist-packages (from sympy==1.13.1->torch) (1.3.0)\n",
            "Requirement already satisfied: python-dateutil>=2.8.2 in /usr/local/lib/python3.11/dist-packages (from pandas) (2.9.0.post0)\n",
            "Requirement already satisfied: pytz>=2020.1 in /usr/local/lib/python3.11/dist-packages (from pandas) (2025.2)\n",
            "Requirement already satisfied: tzdata>=2022.7 in /usr/local/lib/python3.11/dist-packages (from pandas) (2025.2)\n",
            "Requirement already satisfied: hf-xet<2.0.0,>=1.1.2 in /usr/local/lib/python3.11/dist-packages (from huggingface-hub<1.0,>=0.30.0->transformers) (1.1.5)\n",
            "Requirement already satisfied: six>=1.5 in /usr/local/lib/python3.11/dist-packages (from python-dateutil>=2.8.2->pandas) (1.17.0)\n",
            "Requirement already satisfied: MarkupSafe>=2.0 in /usr/local/lib/python3.11/dist-packages (from jinja2->torch) (3.0.2)\n",
            "Requirement already satisfied: charset-normalizer<4,>=2 in /usr/local/lib/python3.11/dist-packages (from requests->transformers) (3.4.2)\n",
            "Requirement already satisfied: idna<4,>=2.5 in /usr/local/lib/python3.11/dist-packages (from requests->transformers) (3.10)\n",
            "Requirement already satisfied: urllib3<3,>=1.21.1 in /usr/local/lib/python3.11/dist-packages (from requests->transformers) (2.4.0)\n",
            "Requirement already satisfied: certifi>=2017.4.17 in /usr/local/lib/python3.11/dist-packages (from requests->transformers) (2025.6.15)\n"
          ]
        }
      ],
      "source": [
        "!pip install langchain langchain_core langchain_groq langchain_community langgraph gradio\n",
        "!pip install scikit-learn transformers torch pandas"
      ]
    },
    {
      "cell_type": "markdown",
      "metadata": {
        "id": "O67hSFVqZVrY"
      },
      "source": [
        "Importing Libraries"
      ]
    },
    {
      "cell_type": "code",
      "execution_count": 2,
      "metadata": {
        "id": "ne_a93eJRoDT"
      },
      "outputs": [],
      "source": [
        "import os\n",
        "from typing import TypedDict, Annotated, List\n",
        "from langgraph.graph import StateGraph, END\n",
        "from langchain_core.messages import HumanMessage, AIMessage\n",
        "from langchain_core.prompts import ChatPromptTemplate\n",
        "from langchain_groq import ChatGroq\n",
        "import gradio as gr\n",
        "from sklearn.ensemble import RandomForestClassifier\n",
        "import pandas as pd\n",
        "from transformers import pipeline"
      ]
    },
    {
      "cell_type": "markdown",
      "metadata": {
        "id": "IPKaue67ZYAK"
      },
      "source": [
        "Defining the State Structure"
      ]
    },
    {
      "cell_type": "code",
      "execution_count": 3,
      "metadata": {
        "id": "GxX_F55uSWW9"
      },
      "outputs": [],
      "source": [
        "class PlannerState(TypedDict):\n",
        "    \"\"\"Structure of our travel planning state\"\"\"\n",
        "    messages: Annotated[List[HumanMessage | AIMessage], \"The messages in the conversation\"]\n",
        "    city: str\n",
        "    interests: List[str]\n",
        "    itinerary: str\n",
        "    user_id: int"
      ]
    },
    {
      "cell_type": "markdown",
      "metadata": {
        "id": "onSHRetIZeOp"
      },
      "source": [
        "Initializing the LLM (Groq API)"
      ]
    },
    {
      "cell_type": "code",
      "execution_count": null,
      "metadata": {
        "id": "799mLdZrSsG3"
      },
      "outputs": [],
      "source": [
        "# Initialize the Groq LLM (replace with your actual API key)\n",
        "llm = ChatGroq(\n",
        "    temperature=0,\n",
        "    groq_api_key=\"YOUR_GROQ_API\",\n",
        "    model_name=\"llama-3.3-70b-versatile\"\n",
        ")"
      ]
    },
    {
      "cell_type": "markdown",
      "metadata": {
        "id": "9J75qyd5ZjEY"
      },
      "source": [
        "Defining Prompt Templates"
      ]
    },
    {
      "cell_type": "code",
      "execution_count": 5,
      "metadata": {
        "id": "mZjwSQmnTI7E"
      },
      "outputs": [],
      "source": [
        "# Main itinerary prompt\n",
        "itinerary_prompt = ChatPromptTemplate.from_messages([\n",
        "    (\"system\", \"\"\"You are a helpful travel assistant. Create a detailed day trip itinerary for {city}\n",
        "    based on the user's interests: {interests}. Provide a well-structured itinerary with:\n",
        "    - Morning, afternoon, and evening activities\n",
        "    - Recommended restaurants/cafes\n",
        "    - Travel tips\n",
        "    - Estimated times for each activity\"\"\"),\n",
        "    (\"human\", \"Create an itinerary for my day trip to {city} with interests in {interests}.\"),\n",
        "])\n",
        "\n",
        "# Follow-up prompt for additional recommendations\n",
        "recommendation_prompt = ChatPromptTemplate.from_messages([\n",
        "    (\"system\", \"\"\"Based on the user's interests in {interests} and their current itinerary:\n",
        "    {itinerary}\n",
        "    Suggest 2-3 additional activities they might enjoy in {city}.\"\"\"),\n",
        "    (\"human\", \"Suggest some additional activities I might like.\"),\n",
        "])"
      ]
    },
    {
      "cell_type": "markdown",
      "metadata": {
        "id": "IJ9ayy3QZwiO"
      },
      "source": [
        "Machine Learning Personalized Recommendation Model (Random Forest)"
      ]
    },
    {
      "cell_type": "code",
      "execution_count": 6,
      "metadata": {
        "id": "O3moHWPATLVz"
      },
      "outputs": [],
      "source": [
        "# Mock dataset for training our recommendation model\n",
        "def create_mock_data():\n",
        "    data = {\n",
        "        \"user_id\": [1, 1, 1, 2, 2, 3, 3, 3, 4, 4],\n",
        "        \"activity\": [\"beach\", \"museum\", \"hiking\", \"shopping\", \"beach\",\n",
        "                    \"museum\", \"restaurant\", \"park\", \"hiking\", \"shopping\"],\n",
        "        \"liked\": [1, 0, 1, 1, 0, 1, 1, 0, 1, 0]\n",
        "    }\n",
        "    df = pd.DataFrame(data)\n",
        "\n",
        "    # Encode activities\n",
        "    activity_map = {activity: idx for idx, activity in enumerate(df['activity'].unique())}\n",
        "    df['activity_encoded'] = df['activity'].map(activity_map)\n",
        "\n",
        "    return df, activity_map\n",
        "\n",
        "# Train the model\n",
        "df, activity_map = create_mock_data()\n",
        "model = RandomForestClassifier()\n",
        "model.fit(df[[\"user_id\", \"activity_encoded\"]], df[\"liked\"])\n",
        "\n",
        "def recommend_activity(user_id: int, activities: List[str]) -> List[str]:\n",
        "    \"\"\"Predict which activities a user will like\"\"\"\n",
        "    # Encode the input activities\n",
        "    encoded_activities = [activity_map[a] for a in activities if a in activity_map]\n",
        "\n",
        "    if not encoded_activities:\n",
        "        return []\n",
        "\n",
        "    # Get predictions\n",
        "    predictions = model.predict([[user_id, a] for a in encoded_activities])\n",
        "\n",
        "    # Return only recommended activities\n",
        "    return [a for a, p in zip(activities, predictions) if p == 1]"
      ]
    },
    {
      "cell_type": "markdown",
      "metadata": {
        "id": "t410LC4iZ2Ax"
      },
      "source": [
        "Using DL for Sentiment Analysis Model (BERT)"
      ]
    },
    {
      "cell_type": "code",
      "execution_count": 7,
      "metadata": {
        "colab": {
          "base_uri": "https://localhost:8080/"
        },
        "id": "Z4CcT4tjTOMe",
        "outputId": "080dc635-b6aa-4225-da66-d5bd93113219"
      },
      "outputs": [
        {
          "name": "stderr",
          "output_type": "stream",
          "text": [
            "/usr/local/lib/python3.11/dist-packages/huggingface_hub/utils/_auth.py:94: UserWarning: \n",
            "The secret `HF_TOKEN` does not exist in your Colab secrets.\n",
            "To authenticate with the Hugging Face Hub, create a token in your settings tab (https://huggingface.co/settings/tokens), set it as secret in your Google Colab and restart your session.\n",
            "You will be able to reuse this secret in all of your notebooks.\n",
            "Please note that authentication is recommended but still optional to access public models or datasets.\n",
            "  warnings.warn(\n",
            "Device set to use cpu\n"
          ]
        }
      ],
      "source": [
        "# Initialize sentiment analyzer\n",
        "sentiment_analyzer = pipeline(\n",
        "    \"sentiment-analysis\",\n",
        "    model=\"distilbert-base-uncased-finetuned-sst-2-english\"\n",
        ")\n",
        "\n",
        "def analyze_reviews(reviews: List[str]) -> str:\n",
        "    \"\"\"Analyze sentiment of location reviews\"\"\"\n",
        "    if not reviews:\n",
        "        return \"No reviews available for sentiment analysis.\"\n",
        "\n",
        "    results = sentiment_analyzer(reviews)\n",
        "    positive = sum(1 for r in results if r['label'] == 'POSITIVE')\n",
        "    percentage = (positive / len(results)) * 100\n",
        "\n",
        "    sentiment = \"positive\" if percentage > 60 else \"negative\" if percentage < 40 else \"mixed\"\n",
        "    return f\"Sentiment analysis of {len(results)} reviews: {percentage:.1f}% positive ({sentiment} sentiment)\""
      ]
    },
    {
      "cell_type": "markdown",
      "metadata": {
        "id": "HXu5uZ9WaBd9"
      },
      "source": [
        "Defining Agent Functions"
      ]
    },
    {
      "cell_type": "code",
      "execution_count": 8,
      "metadata": {
        "id": "4si4IC-eTR3j"
      },
      "outputs": [],
      "source": [
        "def input_city(state: PlannerState) -> PlannerState:\n",
        "    \"\"\"Agent to handle city input\"\"\"\n",
        "    city = state['city']  # Get city from the state\n",
        "    return {\n",
        "        **state,\n",
        "        \"messages\": state['messages'] + [HumanMessage(content=f\"Planning trip to: {city}\")],\n",
        "    }\n",
        "\n",
        "def input_interests(state: PlannerState) -> PlannerState:\n",
        "    \"\"\"Agent to handle interests input\"\"\"\n",
        "    interests_list = [i.strip() for i in state['interests']]\n",
        "    return {\n",
        "        **state,\n",
        "        \"messages\": state['messages'] + [HumanMessage(content=f\"My interests: {', '.join(interests_list)}\")],\n",
        "    }\n",
        "\n",
        "def create_itinerary(state: PlannerState) -> PlannerState:\n",
        "    \"\"\"Generate the base itinerary using LLM\"\"\"\n",
        "    # Generate initial itinerary\n",
        "    itinerary = llm.invoke(\n",
        "        itinerary_prompt.format_messages(\n",
        "            city=state['city'],\n",
        "            interests=\", \".join(state['interests'])\n",
        "        )\n",
        "    ).content\n",
        "\n",
        "    # Add ML/DL enhancements\n",
        "    enhancements = []\n",
        "\n",
        "    # 1. Personalized recommendations\n",
        "    if len(state['interests']) > 1:\n",
        "        recommended = recommend_activity(state['user_id'], state['interests'])\n",
        "        if recommended:\n",
        "            enhancements.append(f\"\\n\\nPersonalized recommendations based on your profile: {', '.join(recommended)}\")\n",
        "\n",
        "    # 2. Sentiment analysis for locations\n",
        "    if \"beach\" in state['interests']:\n",
        "        beach_reviews = [\n",
        "            \"Beautiful sandy beach with clear water!\",\n",
        "            \"Too crowded on weekends.\",\n",
        "            \"Perfect for sunset views.\"\n",
        "        ]\n",
        "        sentiment = analyze_reviews(beach_reviews)\n",
        "        enhancements.append(f\"\\n\\nBeach sentiment analysis: {sentiment}\")\n",
        "\n",
        "    # Combine all enhancements\n",
        "    enhanced_itinerary = itinerary + \"\".join(enhancements)\n",
        "\n",
        "    return {\n",
        "        **state,\n",
        "        \"itinerary\": enhanced_itinerary,\n",
        "        \"messages\": state['messages'] + [AIMessage(content=enhanced_itinerary)],\n",
        "    }"
      ]
    },
    {
      "cell_type": "markdown",
      "metadata": {
        "id": "hRXAceroaG9R"
      },
      "source": [
        "Build the Agentic Workflow"
      ]
    },
    {
      "cell_type": "code",
      "execution_count": 9,
      "metadata": {
        "id": "MGoBxTAUTZE2"
      },
      "outputs": [],
      "source": [
        "# Initialize the workflow\n",
        "workflow = StateGraph(PlannerState)\n",
        "\n",
        "# Add nodes (agents)\n",
        "workflow.add_node(\"input_city\", input_city)\n",
        "workflow.add_node(\"input_interests\", input_interests)\n",
        "workflow.add_node(\"create_itinerary\", create_itinerary)\n",
        "\n",
        "# Define the workflow\n",
        "workflow.set_entry_point(\"input_city\")\n",
        "workflow.add_edge(\"input_city\", \"input_interests\")\n",
        "workflow.add_edge(\"input_interests\", \"create_itinerary\")\n",
        "workflow.add_edge(\"create_itinerary\", END)\n",
        "\n",
        "# Compile the workflow\n",
        "app = workflow.compile()"
      ]
    },
    {
      "cell_type": "markdown",
      "metadata": {
        "id": "zBjsS_vvaKK-"
      },
      "source": [
        "Creating Gradio Interface"
      ]
    },
    {
      "cell_type": "code",
      "execution_count": 13,
      "metadata": {
        "colab": {
          "base_uri": "https://localhost:8080/",
          "height": 645
        },
        "id": "NBmdIP6iTcPc",
        "outputId": "5afc9f49-c81a-4f93-c295-f909626c4c52"
      },
      "outputs": [
        {
          "name": "stderr",
          "output_type": "stream",
          "text": [
            "/usr/local/lib/python3.11/dist-packages/gradio/interface.py:416: UserWarning: The `allow_flagging` parameter in `Interface` is deprecated.Use `flagging_mode` instead.\n",
            "  warnings.warn(\n"
          ]
        },
        {
          "name": "stdout",
          "output_type": "stream",
          "text": [
            "Colab notebook detected. To show errors in colab notebook, set debug=True in launch()\n",
            "* Running on public URL: https://4d0035b97dbf45de96.gradio.live\n",
            "\n",
            "This share link expires in 1 week. For free permanent hosting and GPU upgrades, run `gradio deploy` from the terminal in the working directory to deploy to Hugging Face Spaces (https://huggingface.co/spaces)\n"
          ]
        },
        {
          "data": {
            "text/html": [
              "<div><iframe src=\"https://4d0035b97dbf45de96.gradio.live\" width=\"100%\" height=\"500\" allow=\"autoplay; camera; microphone; clipboard-read; clipboard-write;\" frameborder=\"0\" allowfullscreen></iframe></div>"
            ],
            "text/plain": [
              "<IPython.core.display.HTML object>"
            ]
          },
          "metadata": {},
          "output_type": "display_data"
        },
        {
          "data": {
            "text/plain": []
          },
          "execution_count": 13,
          "metadata": {},
          "output_type": "execute_result"
        }
      ],
      "source": [
        "def travel_planner(city: str, interests: str, user_id: int = 1):\n",
        "    \"\"\"Main function to handle the travel planning\"\"\"\n",
        "    try:\n",
        "        # Initialize state with all required fields\n",
        "        state = {\n",
        "            \"messages\": [],\n",
        "            \"city\": city.strip(),\n",
        "            \"interests\": [i.strip() for i in interests.split(\",\")],\n",
        "            \"itinerary\": \"\",\n",
        "            \"user_id\": int(user_id)\n",
        "        }\n",
        "\n",
        "        # Validate inputs\n",
        "        if not state['city']:\n",
        "            return \"⚠️ Please enter a city name\"\n",
        "        if not state['interests'] or all(not i for i in state['interests']):\n",
        "            return \"⚠️ Please enter at least one interest\"\n",
        "\n",
        "        # Run the workflow - now passing just the state\n",
        "        result = app.invoke(state)\n",
        "\n",
        "        # Rest of your function remains the same\n",
        "        ...\n",
        "        # Format the output as markdown\n",
        "        output = f\"\"\"\n",
        "#  Trip to {state['city'].title()}\n",
        "\n",
        "**Interests:** {', '.join(state['interests'])}\n",
        "\n",
        "---\n",
        "\n",
        "## Your Personalized Itinerary\n",
        "\n",
        "{result['itinerary']}\n",
        "\n",
        "---\n",
        "\"\"\"\n",
        "        return output\n",
        "\n",
        "    except Exception as e:\n",
        "        return f\"❌ An error occurred: {str(e)}\"\n",
        "\n",
        "# Create the interface\n",
        "interface = gr.Interface(\n",
        "    fn=travel_planner,\n",
        "    inputs=[\n",
        "        gr.Textbox(label=\"City\", placeholder=\"e.g., Paris, Tokyo, New York\"),\n",
        "        gr.Textbox(label=\"Interests\", placeholder=\"e.g., museums, food, history\"),\n",
        "        gr.Number(label=\"User ID (for personalization)\", value=1)\n",
        "    ],\n",
        "    outputs=gr.Markdown(label=\"Travel Itinerary\"),  # Changed to Markdown\n",
        "    title=\"Travel Itinerary Planner\",\n",
        "    description=\"Get personalized travel itineraries powered by AI\",\n",
        "    examples=[\n",
        "        [\"Paris\", \"museums, food, history\", 1],\n",
        "        [\"Tokyo\", \"shopping, temples, technology\", 2],\n",
        "        [\"New York\", \"broadway, parks, shopping\", 3]\n",
        "    ],\n",
        "    allow_flagging=\"never\"\n",
        ")\n",
        "\n",
        "# Launch the interface\n",
        "interface.launch(share=True)"
      ]
    },
    {
      "cell_type": "code",
      "execution_count": 10,
      "metadata": {
        "id": "knczHIZ4Te4c"
      },
      "outputs": [],
      "source": []
    }
  ],
  "metadata": {
    "colab": {
      "provenance": []
    },
    "kernelspec": {
      "display_name": "Python 3",
      "name": "python3"
    },
    "language_info": {
      "name": "python"
    }
  },
  "nbformat": 4,
  "nbformat_minor": 0
}
